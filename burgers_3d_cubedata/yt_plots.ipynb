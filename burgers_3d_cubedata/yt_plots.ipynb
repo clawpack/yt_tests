{
 "cells": [
  {
   "cell_type": "markdown",
   "metadata": {},
   "source": [
    "## Some tests of yt"
   ]
  },
  {
   "cell_type": "code",
   "execution_count": 1,
   "metadata": {
    "collapsed": false
   },
   "outputs": [
    {
     "name": "stdout",
     "output_type": "stream",
     "text": [
      "Populating the interactive namespace from numpy and matplotlib\n"
     ]
    }
   ],
   "source": [
    "%pylab inline"
   ]
  },
  {
   "cell_type": "code",
   "execution_count": 2,
   "metadata": {
    "collapsed": true
   },
   "outputs": [],
   "source": [
    "from clawpack.pyclaw import Solution\n",
    "import numpy as np\n",
    "import matplotlib.pyplot as plt\n",
    "import yt\n",
    "from IPython.display import Image"
   ]
  },
  {
   "cell_type": "code",
   "execution_count": 68,
   "metadata": {
    "collapsed": true
   },
   "outputs": [],
   "source": [
    "def load_yt(frame):\n",
    "    \"\"\"\n",
    "    Load a frame of amrclaw data and reformat for yt.\n",
    "    \"\"\"\n",
    "    sol = Solution(frame,path='_output',file_format='ascii')\n",
    "    grid_data = []\n",
    "     \n",
    "    for state in sorted(sol.states, key = lambda a: a.patch.level):\n",
    "        patch = state.patch\n",
    "        d = {\n",
    "            'left_edge': patch.lower_global,\n",
    "            'right_edge': patch.upper_global,\n",
    "            'level': patch.level,\n",
    "            'dimensions': patch.num_cells_global,\n",
    "            'q': state.q[0,...],\n",
    "            'number_of_particles': 0,\n",
    "            }\n",
    "        grid_data.append(d)\n",
    "\n",
    "    ds = yt.load_amr_grids(grid_data, sol.patch.num_cells_global)\n",
    "    return ds"
   ]
  },
  {
   "cell_type": "code",
   "execution_count": 69,
   "metadata": {
    "collapsed": false
   },
   "outputs": [
    {
     "name": "stderr",
     "output_type": "stream",
     "text": [
      "yt : [INFO     ] 2016-03-23 14:30:36,000 Parameters: current_time              = 0.0\n",
      "yt : [INFO     ] 2016-03-23 14:30:36,000 Parameters: domain_dimensions         = [10 14 20]\n",
      "yt : [INFO     ] 2016-03-23 14:30:36,001 Parameters: domain_left_edge          = [ 0.  0.  0.]\n",
      "yt : [INFO     ] 2016-03-23 14:30:36,002 Parameters: domain_right_edge         = [ 1.  1.  1.]\n",
      "yt : [INFO     ] 2016-03-23 14:30:36,003 Parameters: cosmological_simulation   = 0.0\n"
     ]
    }
   ],
   "source": [
    "ds = load_yt(1)"
   ]
  },
  {
   "cell_type": "markdown",
   "metadata": {},
   "source": [
    "This doesn't seem to set the `domain_right_edge` properly:"
   ]
  },
  {
   "cell_type": "code",
   "execution_count": 70,
   "metadata": {
    "collapsed": false
   },
   "outputs": [
    {
     "name": "stdout",
     "output_type": "stream",
     "text": [
      "Lower corner:  [ 0.  0.  0.] code_length\n",
      "Upper corner:  [ 1.  1.  1.] code_length\n",
      "cells:  [10 14 20]\n"
     ]
    }
   ],
   "source": [
    "print \"Lower corner: \",ds.domain_left_edge\n",
    "print \"Upper corner: \",ds.domain_right_edge\n",
    "print \"cells: \", ds.domain_dimensions"
   ]
  },
  {
   "cell_type": "code",
   "execution_count": 71,
   "metadata": {
    "collapsed": false
   },
   "outputs": [
    {
     "name": "stderr",
     "output_type": "stream",
     "text": [
      "yt : [INFO     ] 2016-03-23 14:31:14,754 Making a fixed resolution buffer of (q) 450 by 600\n",
      "yt : [INFO     ] 2016-03-23 14:31:14,781 Loading field plugins.\n",
      "yt : [INFO     ] 2016-03-23 14:31:14,782 Loaded angular_momentum (8 new fields)\n",
      "yt : [INFO     ] 2016-03-23 14:31:14,783 Loaded astro (15 new fields)\n",
      "yt : [INFO     ] 2016-03-23 14:31:14,783 Loaded cosmology (22 new fields)\n",
      "yt : [INFO     ] 2016-03-23 14:31:14,785 Loaded fluid (64 new fields)\n",
      "yt : [INFO     ] 2016-03-23 14:31:14,786 Loaded fluid_vector (96 new fields)\n",
      "yt : [INFO     ] 2016-03-23 14:31:14,787 Loaded geometric (112 new fields)\n",
      "yt : [INFO     ] 2016-03-23 14:31:14,788 Loaded local (112 new fields)\n",
      "yt : [INFO     ] 2016-03-23 14:31:14,788 Loaded magnetic_field (120 new fields)\n",
      "yt : [INFO     ] 2016-03-23 14:31:14,789 Loaded my_plugins (120 new fields)\n",
      "yt : [INFO     ] 2016-03-23 14:31:14,789 Loaded species (122 new fields)\n"
     ]
    },
    {
     "data": {
      "text/plain": [
       "<matplotlib.text.Text at 0x120b62150>"
      ]
     },
     "execution_count": 71,
     "metadata": {},
     "output_type": "execute_result"
    },
    {
     "data": {
      "image/png": "[encoded data removed]",
      "text/plain": [
       "<matplotlib.figure.Figure at 0x120ff1850>"
      ]
     },
     "metadata": {},
     "output_type": "display_data"
    }
   ],
   "source": [
    "s = ds.slice(0, 0.4) # normal to x axis at x=0.4\n",
    "width = (3,'cm')\n",
    "res = [450,600]\n",
    "frb = s.to_frb(width,res)\n",
    "q = np.array(frb['q'])\n",
    "\n",
    "plt.clf()\n",
    "plt.imshow(q, origin='lower', extent=(0,1.4,0,2))\n",
    "xlabel('y')\n",
    "ylabel('z')"
   ]
  },
  {
   "cell_type": "markdown",
   "metadata": {},
   "source": [
    "This looks reasonable except the coordinates are not right.  Cube starts with 0.1 < x < 0.6 and similarly in y, z."
   ]
  },
  {
   "cell_type": "code",
   "execution_count": 72,
   "metadata": {
    "collapsed": false
   },
   "outputs": [
    {
     "name": "stderr",
     "output_type": "stream",
     "text": [
      "yt : [INFO     ] 2016-03-23 14:31:22,762 Parameters: current_time              = 0.0\n",
      "yt : [INFO     ] 2016-03-23 14:31:22,763 Parameters: domain_dimensions         = [10 14 20]\n",
      "yt : [INFO     ] 2016-03-23 14:31:22,764 Parameters: domain_left_edge          = [ 0.  0.  0.]\n",
      "yt : [INFO     ] 2016-03-23 14:31:22,764 Parameters: domain_right_edge         = [ 1.  1.  1.]\n",
      "yt : [INFO     ] 2016-03-23 14:31:22,765 Parameters: cosmological_simulation   = 0.0\n",
      "yt : [INFO     ] 2016-03-23 14:31:22,770 Making a fixed resolution buffer of (q) 450 by 600\n",
      "yt : [INFO     ] 2016-03-23 14:31:22,795 Loading field plugins.\n",
      "yt : [INFO     ] 2016-03-23 14:31:22,796 Loaded angular_momentum (8 new fields)\n",
      "yt : [INFO     ] 2016-03-23 14:31:22,796 Loaded astro (15 new fields)\n",
      "yt : [INFO     ] 2016-03-23 14:31:22,797 Loaded cosmology (22 new fields)\n",
      "yt : [INFO     ] 2016-03-23 14:31:22,798 Loaded fluid (64 new fields)\n",
      "yt : [INFO     ] 2016-03-23 14:31:22,799 Loaded fluid_vector (96 new fields)\n",
      "yt : [INFO     ] 2016-03-23 14:31:22,799 Loaded geometric (112 new fields)\n",
      "yt : [INFO     ] 2016-03-23 14:31:22,800 Loaded local (112 new fields)\n",
      "yt : [INFO     ] 2016-03-23 14:31:22,800 Loaded magnetic_field (120 new fields)\n",
      "yt : [INFO     ] 2016-03-23 14:31:22,801 Loaded my_plugins (120 new fields)\n",
      "yt : [INFO     ] 2016-03-23 14:31:22,801 Loaded species (122 new fields)\n"
     ]
    },
    {
     "data": {
      "text/plain": [
       "<matplotlib.image.AxesImage at 0x111c7b750>"
      ]
     },
     "execution_count": 72,
     "metadata": {},
     "output_type": "execute_result"
    },
    {
     "data": {
      "image/png": "[encoded data removed]",
      "text/plain": [
       "<matplotlib.figure.Figure at 0x1189f0fd0>"
      ]
     },
     "metadata": {},
     "output_type": "display_data"
    }
   ],
   "source": [
    "ds = load_yt(3)\n",
    "s = ds.slice(0, 0.4) # normal to x axis at x=0.4\n",
    "width = (3,'cm')\n",
    "res = [450,600]\n",
    "frb = s.to_frb(width,res)\n",
    "q = np.array(frb['q'])\n",
    "\n",
    "plt.clf()\n",
    "plt.imshow(q, origin='lower', extent=(0,1.4,0,2))"
   ]
  },
  {
   "cell_type": "markdown",
   "metadata": {},
   "source": [
    "### 3D plots"
   ]
  },
  {
   "cell_type": "code",
   "execution_count": 73,
   "metadata": {
    "collapsed": true
   },
   "outputs": [],
   "source": [
    "tf = yt.ColorTransferFunction((0,1))\n",
    "tf.add_layers(10, colormap = 'RdBu_r')\n",
    "N = 256"
   ]
  },
  {
   "cell_type": "code",
   "execution_count": 76,
   "metadata": {
    "collapsed": false
   },
   "outputs": [
    {
     "name": "stderr",
     "output_type": "stream",
     "text": [
      "yt : [INFO     ] 2016-03-23 14:38:12,610 Parameters: current_time              = 0.0\n",
      "yt : [INFO     ] 2016-03-23 14:38:12,610 Parameters: domain_dimensions         = [10 14 20]\n",
      "yt : [INFO     ] 2016-03-23 14:38:12,611 Parameters: domain_left_edge          = [ 0.  0.  0.]\n",
      "yt : [INFO     ] 2016-03-23 14:38:12,612 Parameters: domain_right_edge         = [ 1.  1.  1.]\n",
      "yt : [INFO     ] 2016-03-23 14:38:12,613 Parameters: cosmological_simulation   = 0.0\n",
      "yt : [INFO     ] 2016-03-23 14:38:12,648 Loading field plugins.\n",
      "yt : [INFO     ] 2016-03-23 14:38:12,649 Loaded angular_momentum (8 new fields)\n",
      "yt : [INFO     ] 2016-03-23 14:38:12,649 Loaded astro (15 new fields)\n",
      "yt : [INFO     ] 2016-03-23 14:38:12,650 Loaded cosmology (22 new fields)\n",
      "yt : [INFO     ] 2016-03-23 14:38:12,651 Loaded fluid (64 new fields)\n",
      "yt : [INFO     ] 2016-03-23 14:38:12,653 Loaded fluid_vector (96 new fields)\n",
      "yt : [INFO     ] 2016-03-23 14:38:12,653 Loaded geometric (112 new fields)\n",
      "yt : [INFO     ] 2016-03-23 14:38:12,654 Loaded local (112 new fields)\n",
      "yt : [INFO     ] 2016-03-23 14:38:12,654 Loaded magnetic_field (120 new fields)\n",
      "yt : [INFO     ] 2016-03-23 14:38:12,655 Loaded my_plugins (120 new fields)\n",
      "yt : [INFO     ] 2016-03-23 14:38:12,655 Loaded species (122 new fields)\n",
      "yt : [INFO     ] 2016-03-23 14:38:12,776 Warning: no_ghost is currently True (default). This may lead to artifacts at grid boundaries.\n"
     ]
    },
    {
     "data": {
      "image/png": "[encoded data removed]",
      "text/plain": [
       "<IPython.core.display.Image object>"
      ]
     },
     "execution_count": 76,
     "metadata": {},
     "output_type": "execute_result"
    }
   ],
   "source": [
    "ds = load_yt(1)\n",
    "c = (0,0,0)\n",
    "L = (-1,-1.4,-2)\n",
    "W = 2\n",
    "cam = ds.camera(c, L, W, N, tf, fields = ['q'], log_fields = [False])\n",
    "im = cam.snapshot('test_rendering.png')\n",
    "Image('test_rendering.png')"
   ]
  },
  {
   "cell_type": "code",
   "execution_count": 77,
   "metadata": {
    "collapsed": false
   },
   "outputs": [
    {
     "name": "stderr",
     "output_type": "stream",
     "text": [
      "yt : [INFO     ] 2016-03-23 14:38:16,379 Parameters: current_time              = 0.0\n",
      "yt : [INFO     ] 2016-03-23 14:38:16,380 Parameters: domain_dimensions         = [10 14 20]\n",
      "yt : [INFO     ] 2016-03-23 14:38:16,381 Parameters: domain_left_edge          = [ 0.  0.  0.]\n",
      "yt : [INFO     ] 2016-03-23 14:38:16,381 Parameters: domain_right_edge         = [ 1.  1.  1.]\n",
      "yt : [INFO     ] 2016-03-23 14:38:16,382 Parameters: cosmological_simulation   = 0.0\n",
      "yt : [INFO     ] 2016-03-23 14:38:16,410 Loading field plugins.\n",
      "yt : [INFO     ] 2016-03-23 14:38:16,411 Loaded angular_momentum (8 new fields)\n",
      "yt : [INFO     ] 2016-03-23 14:38:16,412 Loaded astro (15 new fields)\n",
      "yt : [INFO     ] 2016-03-23 14:38:16,413 Loaded cosmology (22 new fields)\n",
      "yt : [INFO     ] 2016-03-23 14:38:16,415 Loaded fluid (64 new fields)\n",
      "yt : [INFO     ] 2016-03-23 14:38:16,416 Loaded fluid_vector (96 new fields)\n",
      "yt : [INFO     ] 2016-03-23 14:38:16,417 Loaded geometric (112 new fields)\n",
      "yt : [INFO     ] 2016-03-23 14:38:16,417 Loaded local (112 new fields)\n",
      "yt : [INFO     ] 2016-03-23 14:38:16,418 Loaded magnetic_field (120 new fields)\n",
      "yt : [INFO     ] 2016-03-23 14:38:16,418 Loaded my_plugins (120 new fields)\n",
      "yt : [INFO     ] 2016-03-23 14:38:16,419 Loaded species (122 new fields)\n",
      "yt : [INFO     ] 2016-03-23 14:38:16,538 Warning: no_ghost is currently True (default). This may lead to artifacts at grid boundaries.\n"
     ]
    },
    {
     "name": "stdout",
     "output_type": "stream",
     "text": [
      "Failed to split grids.\n",
      "Failed to split grids.\n",
      "Failed to split grids.\n",
      "Failed to split grids.\n",
      "Failed to split grids.\n",
      "Failed to split grids.\n",
      "Failed to split grids.\n",
      "Failed to split grids.\n",
      "Failed to split grids.\n",
      "Failed to split grids.\n",
      "Failed to split grids.\n",
      "Failed to split grids.\n",
      "Failed to split grids.\n",
      "Failed to split grids.\n",
      "Failed to split grids.\n",
      "Failed to split grids.\n",
      "Failed to split grids.\n",
      "Failed to split grids.\n",
      "Failed to split grids.\n",
      "Failed to split grids.\n",
      "Failed to split grids.\n",
      "Failed to split grids.\n",
      "Failed to split grids.\n",
      "Failed to split grids.\n"
     ]
    },
    {
     "data": {
      "image/png": "[encoded data removed]",
      "text/plain": [
       "<IPython.core.display.Image object>"
      ]
     },
     "execution_count": 77,
     "metadata": {},
     "output_type": "execute_result"
    }
   ],
   "source": [
    "ds = load_yt(3)\n",
    "c = (0,0,0)\n",
    "L = (-1,-1.4,-2)\n",
    "W = 2\n",
    "cam = ds.camera(c, L, W, N, tf, fields = ['q'], log_fields = [False])\n",
    "im = cam.snapshot('test_rendering2.png')\n",
    "Image('test_rendering2.png')"
   ]
  },
  {
   "cell_type": "code",
   "execution_count": null,
   "metadata": {
    "collapsed": true
   },
   "outputs": [],
   "source": []
  }
 ],
 "metadata": {
  "kernelspec": {
   "display_name": "Python 2",
   "language": "python",
   "name": "python2"
  },
  "language_info": {
   "codemirror_mode": {
    "name": "ipython",
    "version": 2
   },
   "file_extension": ".py",
   "mimetype": "text/x-python",
   "name": "python",
   "nbconvert_exporter": "python",
   "pygments_lexer": "ipython2",
   "version": "2.7.11"
  }
 },
 "nbformat": 4,
 "nbformat_minor": 0
}
